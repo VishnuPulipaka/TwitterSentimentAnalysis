{
 "cells": [
  {
   "cell_type": "markdown",
   "metadata": {
    "colab_type": "text",
    "id": "u1xIa2Q_GAsA"
   },
   "source": [
    "### CSE-221710302064 - Vishnu Pulipaka"
   ]
  },
  {
   "cell_type": "markdown",
   "metadata": {},
   "source": [
    "# Problem statement: \n",
    "    Predicting the sentiment of sample twitter data as positive or negative in sentiment"
   ]
  },
  {
   "cell_type": "markdown",
   "metadata": {
    "colab_type": "text",
    "id": "JJ5KUUzvGAsB"
   },
   "source": [
    "### Twitter Sentiment Analysis"
   ]
  },
  {
   "cell_type": "code",
   "execution_count": 2,
   "metadata": {
    "colab": {
     "base_uri": "https://localhost:8080/",
     "height": 52
    },
    "colab_type": "code",
    "id": "Gxss8xlNGAsC",
    "outputId": "58400c98-c66b-41ef-8f47-c5c1cb6d704a"
   },
   "outputs": [],
   "source": [
    "# Importing Required libraries\n",
    "import pandas as pd\n",
    "import numpy as np\n",
    "import seaborn as sns\n",
    "import re"
   ]
  },
  {
   "cell_type": "code",
   "execution_count": 3,
   "metadata": {
    "colab": {
     "base_uri": "https://localhost:8080/",
     "height": 194
    },
    "colab_type": "code",
    "id": "gOwxNU5MGAsF",
    "outputId": "63c7ddb5-6e55-4a40-a2c5-6d3c58473a11"
   },
   "outputs": [
    {
     "data": {
      "text/html": [
       "<div>\n",
       "<style scoped>\n",
       "    .dataframe tbody tr th:only-of-type {\n",
       "        vertical-align: middle;\n",
       "    }\n",
       "\n",
       "    .dataframe tbody tr th {\n",
       "        vertical-align: top;\n",
       "    }\n",
       "\n",
       "    .dataframe thead th {\n",
       "        text-align: right;\n",
       "    }\n",
       "</style>\n",
       "<table border=\"1\" class=\"dataframe\">\n",
       "  <thead>\n",
       "    <tr style=\"text-align: right;\">\n",
       "      <th></th>\n",
       "      <th>id</th>\n",
       "      <th>label</th>\n",
       "      <th>tweet</th>\n",
       "    </tr>\n",
       "  </thead>\n",
       "  <tbody>\n",
       "    <tr>\n",
       "      <th>0</th>\n",
       "      <td>1</td>\n",
       "      <td>0</td>\n",
       "      <td>@user when a father is dysfunctional and is s...</td>\n",
       "    </tr>\n",
       "    <tr>\n",
       "      <th>1</th>\n",
       "      <td>2</td>\n",
       "      <td>0</td>\n",
       "      <td>@user @user thanks for #lyft credit i can't us...</td>\n",
       "    </tr>\n",
       "    <tr>\n",
       "      <th>2</th>\n",
       "      <td>3</td>\n",
       "      <td>0</td>\n",
       "      <td>bihday your majesty</td>\n",
       "    </tr>\n",
       "    <tr>\n",
       "      <th>3</th>\n",
       "      <td>4</td>\n",
       "      <td>0</td>\n",
       "      <td>#model   i love u take with u all the time in ...</td>\n",
       "    </tr>\n",
       "    <tr>\n",
       "      <th>4</th>\n",
       "      <td>5</td>\n",
       "      <td>0</td>\n",
       "      <td>factsguide: society now    #motivation</td>\n",
       "    </tr>\n",
       "  </tbody>\n",
       "</table>\n",
       "</div>"
      ],
      "text/plain": [
       "   id  label                                              tweet\n",
       "0   1      0   @user when a father is dysfunctional and is s...\n",
       "1   2      0  @user @user thanks for #lyft credit i can't us...\n",
       "2   3      0                                bihday your majesty\n",
       "3   4      0  #model   i love u take with u all the time in ...\n",
       "4   5      0             factsguide: society now    #motivation"
      ]
     },
     "execution_count": 3,
     "metadata": {},
     "output_type": "execute_result"
    }
   ],
   "source": [
    "# Reading the dataset\n",
    "tweets=pd.read_csv(\"train.csv\",encoding = 'latin - 1')\n",
    "tweets.head()"
   ]
  },
  {
   "cell_type": "code",
   "execution_count": 4,
   "metadata": {
    "colab": {
     "base_uri": "https://localhost:8080/",
     "height": 70
    },
    "colab_type": "code",
    "id": "XybkkmrxGAsJ",
    "outputId": "e22afb77-b182-4b4c-84c0-9d2e77b28458"
   },
   "outputs": [
    {
     "data": {
      "text/plain": [
       "0    29720\n",
       "1     2242\n",
       "Name: label, dtype: int64"
      ]
     },
     "execution_count": 4,
     "metadata": {},
     "output_type": "execute_result"
    }
   ],
   "source": [
    "tweets.label.value_counts()"
   ]
  },
  {
   "cell_type": "code",
   "execution_count": 5,
   "metadata": {
    "colab": {
     "base_uri": "https://localhost:8080/",
     "height": 297
    },
    "colab_type": "code",
    "id": "qoaXegF6GAsM",
    "outputId": "49a8a180-3f4e-4eb3-c33b-364a556a4744"
   },
   "outputs": [
    {
     "data": {
      "text/plain": [
       "<matplotlib.axes._subplots.AxesSubplot at 0x19e11314208>"
      ]
     },
     "execution_count": 5,
     "metadata": {},
     "output_type": "execute_result"
    },
    {
     "data": {
      "image/png": "[encoded data removed]",
      "text/plain": [
       "<Figure size 432x288 with 1 Axes>"
      ]
     },
     "metadata": {
      "needs_background": "light"
     },
     "output_type": "display_data"
    }
   ],
   "source": [
    "sns.countplot(tweets.label)"
   ]
  },
  {
   "cell_type": "code",
   "execution_count": 6,
   "metadata": {
    "colab": {
     "base_uri": "https://localhost:8080/",
     "height": 35
    },
    "colab_type": "code",
    "id": "1RkE96IhGAsP",
    "outputId": "ea08b1b3-59cc-4381-9103-32201031e965"
   },
   "outputs": [
    {
     "data": {
      "text/plain": [
       "(31962, 3)"
      ]
     },
     "execution_count": 6,
     "metadata": {},
     "output_type": "execute_result"
    }
   ],
   "source": [
    "# Checking size of dataset\n",
    "tweets.shape"
   ]
  },
  {
   "cell_type": "code",
   "execution_count": 7,
   "metadata": {
    "colab": {
     "base_uri": "https://localhost:8080/",
     "height": 88
    },
    "colab_type": "code",
    "id": "zQJVjCEJGAsS",
    "outputId": "6bd35fed-fa18-45a0-ae13-d80bcfc3e17e"
   },
   "outputs": [
    {
     "data": {
      "text/plain": [
       "id       0\n",
       "label    0\n",
       "tweet    0\n",
       "dtype: int64"
      ]
     },
     "execution_count": 7,
     "metadata": {},
     "output_type": "execute_result"
    }
   ],
   "source": [
    "# Checking for NULL values\n",
    "tweets.isna().sum() # No NULL Values can be found"
   ]
  },
  {
   "cell_type": "code",
   "execution_count": 8,
   "metadata": {
    "colab": {
     "base_uri": "https://localhost:8080/",
     "height": 282
    },
    "colab_type": "code",
    "id": "zKY989W5GAsU",
    "outputId": "a2479310-c482-4b85-bd01-59fdee586602"
   },
   "outputs": [
    {
     "data": {
      "text/html": [
       "<div>\n",
       "<style scoped>\n",
       "    .dataframe tbody tr th:only-of-type {\n",
       "        vertical-align: middle;\n",
       "    }\n",
       "\n",
       "    .dataframe tbody tr th {\n",
       "        vertical-align: top;\n",
       "    }\n",
       "\n",
       "    .dataframe thead th {\n",
       "        text-align: right;\n",
       "    }\n",
       "</style>\n",
       "<table border=\"1\" class=\"dataframe\">\n",
       "  <thead>\n",
       "    <tr style=\"text-align: right;\">\n",
       "      <th></th>\n",
       "      <th>id</th>\n",
       "      <th>label</th>\n",
       "    </tr>\n",
       "  </thead>\n",
       "  <tbody>\n",
       "    <tr>\n",
       "      <th>count</th>\n",
       "      <td>31962.000000</td>\n",
       "      <td>31962.000000</td>\n",
       "    </tr>\n",
       "    <tr>\n",
       "      <th>mean</th>\n",
       "      <td>15981.500000</td>\n",
       "      <td>0.070146</td>\n",
       "    </tr>\n",
       "    <tr>\n",
       "      <th>std</th>\n",
       "      <td>9226.778988</td>\n",
       "      <td>0.255397</td>\n",
       "    </tr>\n",
       "    <tr>\n",
       "      <th>min</th>\n",
       "      <td>1.000000</td>\n",
       "      <td>0.000000</td>\n",
       "    </tr>\n",
       "    <tr>\n",
       "      <th>25%</th>\n",
       "      <td>7991.250000</td>\n",
       "      <td>0.000000</td>\n",
       "    </tr>\n",
       "    <tr>\n",
       "      <th>50%</th>\n",
       "      <td>15981.500000</td>\n",
       "      <td>0.000000</td>\n",
       "    </tr>\n",
       "    <tr>\n",
       "      <th>75%</th>\n",
       "      <td>23971.750000</td>\n",
       "      <td>0.000000</td>\n",
       "    </tr>\n",
       "    <tr>\n",
       "      <th>max</th>\n",
       "      <td>31962.000000</td>\n",
       "      <td>1.000000</td>\n",
       "    </tr>\n",
       "  </tbody>\n",
       "</table>\n",
       "</div>"
      ],
      "text/plain": [
       "                 id         label\n",
       "count  31962.000000  31962.000000\n",
       "mean   15981.500000      0.070146\n",
       "std     9226.778988      0.255397\n",
       "min        1.000000      0.000000\n",
       "25%     7991.250000      0.000000\n",
       "50%    15981.500000      0.000000\n",
       "75%    23971.750000      0.000000\n",
       "max    31962.000000      1.000000"
      ]
     },
     "execution_count": 8,
     "metadata": {},
     "output_type": "execute_result"
    }
   ],
   "source": [
    "# Checking Statistical data \n",
    "tweets.describe()"
   ]
  },
  {
   "cell_type": "markdown",
   "metadata": {
    "colab_type": "text",
    "id": "gKQRtQitGAsX"
   },
   "source": [
    "#### Cleaning with nltk"
   ]
  },
  {
   "cell_type": "code",
   "execution_count": 9,
   "metadata": {
    "colab": {
     "base_uri": "https://localhost:8080/",
     "height": 70
    },
    "colab_type": "code",
    "id": "bowuni4PIsdG",
    "outputId": "4ea46d03-7d33-4fc2-87a4-a6bdcc55c22d"
   },
   "outputs": [
    {
     "name": "stdout",
     "output_type": "stream",
     "text": [
      "[nltk_data] Downloading package stopwords to\n",
      "[nltk_data]     C:\\Users\\vishn\\AppData\\Roaming\\nltk_data...\n",
      "[nltk_data]   Package stopwords is already up-to-date!\n"
     ]
    },
    {
     "data": {
      "text/plain": [
       "True"
      ]
     },
     "execution_count": 9,
     "metadata": {},
     "output_type": "execute_result"
    }
   ],
   "source": [
    "import nltk\n",
    "nltk.download('stopwords')"
   ]
  },
  {
   "cell_type": "code",
   "execution_count": 10,
   "metadata": {
    "colab": {
     "base_uri": "https://localhost:8080/",
     "height": 194
    },
    "colab_type": "code",
    "id": "8rMyog-LGAsY",
    "outputId": "e33376e4-5bf5-4f04-b763-5b9d526ff67d"
   },
   "outputs": [
    {
     "data": {
      "text/html": [
       "<div>\n",
       "<style scoped>\n",
       "    .dataframe tbody tr th:only-of-type {\n",
       "        vertical-align: middle;\n",
       "    }\n",
       "\n",
       "    .dataframe tbody tr th {\n",
       "        vertical-align: top;\n",
       "    }\n",
       "\n",
       "    .dataframe thead th {\n",
       "        text-align: right;\n",
       "    }\n",
       "</style>\n",
       "<table border=\"1\" class=\"dataframe\">\n",
       "  <thead>\n",
       "    <tr style=\"text-align: right;\">\n",
       "      <th></th>\n",
       "      <th>id</th>\n",
       "      <th>label</th>\n",
       "      <th>tweet</th>\n",
       "    </tr>\n",
       "  </thead>\n",
       "  <tbody>\n",
       "    <tr>\n",
       "      <th>0</th>\n",
       "      <td>1</td>\n",
       "      <td>0</td>\n",
       "      <td>@user father dysfunctional selfish drags kids ...</td>\n",
       "    </tr>\n",
       "    <tr>\n",
       "      <th>1</th>\n",
       "      <td>2</td>\n",
       "      <td>0</td>\n",
       "      <td>@user @user thanks #lyft credit can't use caus...</td>\n",
       "    </tr>\n",
       "    <tr>\n",
       "      <th>2</th>\n",
       "      <td>3</td>\n",
       "      <td>0</td>\n",
       "      <td>bihday majesty</td>\n",
       "    </tr>\n",
       "    <tr>\n",
       "      <th>3</th>\n",
       "      <td>4</td>\n",
       "      <td>0</td>\n",
       "      <td>#model love u take u time urÃ°ÂÂÂ±!!! Ã°ÂÂ...</td>\n",
       "    </tr>\n",
       "    <tr>\n",
       "      <th>4</th>\n",
       "      <td>5</td>\n",
       "      <td>0</td>\n",
       "      <td>factsguide: society #motivation</td>\n",
       "    </tr>\n",
       "  </tbody>\n",
       "</table>\n",
       "</div>"
      ],
      "text/plain": [
       "   id  label                                              tweet\n",
       "0   1      0  @user father dysfunctional selfish drags kids ...\n",
       "1   2      0  @user @user thanks #lyft credit can't use caus...\n",
       "2   3      0                                     bihday majesty\n",
       "3   4      0  #model love u take u time urÃ°ÂÂÂ±!!! Ã°ÂÂ...\n",
       "4   5      0                    factsguide: society #motivation"
      ]
     },
     "execution_count": 10,
     "metadata": {},
     "output_type": "execute_result"
    }
   ],
   "source": [
    "# Removing Stopwords\n",
    "# stopwords are words like [a, an ,the ,is ,are...etc] that are not useful for the prediction\n",
    "from nltk.corpus import stopwords\n",
    "stop=stopwords.words(\"english\")\n",
    "stop.extend([\"i'm\",\"I'm\"])\n",
    "\n",
    "tweets.tweet=tweets.tweet.apply(lambda x: ' '.join([word for word in x.split() if word not in (stop)]))\n",
    "tweets.head()"
   ]
  },
  {
   "cell_type": "code",
   "execution_count": 11,
   "metadata": {
    "colab": {},
    "colab_type": "code",
    "id": "GvL6594yGAsa"
   },
   "outputs": [
    {
     "data": {
      "text/plain": [
       "''"
      ]
     },
     "execution_count": 11,
     "metadata": {},
     "output_type": "execute_result"
    }
   ],
   "source": [
    "# a function to clear the text data from user-mentions , special characters, hyperlinks\n",
    "# using regular expressions\n",
    "def clean(x):\n",
    "    x=' '.join(re.sub(\"(@[A-Za-z0-9]+)|([^A-Za-z0-9']+)|(\\w+:\\/\\/\\S+)\",\" \",x).split())\n",
    "    return x\n",
    "clean('@WillSmith https://www.youtube.com/watch?v=p1ccbR2P_xA $$')"
   ]
  },
  {
   "cell_type": "code",
   "execution_count": 12,
   "metadata": {
    "colab": {
     "base_uri": "https://localhost:8080/",
     "height": 194
    },
    "colab_type": "code",
    "id": "nBBgCEe3GAsc",
    "outputId": "c445d7c5-eb80-4522-87d2-02f4a276bfb1"
   },
   "outputs": [
    {
     "data": {
      "text/html": [
       "<div>\n",
       "<style scoped>\n",
       "    .dataframe tbody tr th:only-of-type {\n",
       "        vertical-align: middle;\n",
       "    }\n",
       "\n",
       "    .dataframe tbody tr th {\n",
       "        vertical-align: top;\n",
       "    }\n",
       "\n",
       "    .dataframe thead th {\n",
       "        text-align: right;\n",
       "    }\n",
       "</style>\n",
       "<table border=\"1\" class=\"dataframe\">\n",
       "  <thead>\n",
       "    <tr style=\"text-align: right;\">\n",
       "      <th></th>\n",
       "      <th>id</th>\n",
       "      <th>label</th>\n",
       "      <th>tweet</th>\n",
       "    </tr>\n",
       "  </thead>\n",
       "  <tbody>\n",
       "    <tr>\n",
       "      <th>0</th>\n",
       "      <td>1</td>\n",
       "      <td>0</td>\n",
       "      <td>father dysfunctional selfish drags kids dysfun...</td>\n",
       "    </tr>\n",
       "    <tr>\n",
       "      <th>1</th>\n",
       "      <td>2</td>\n",
       "      <td>0</td>\n",
       "      <td>user thanks lyft credit can't use cause offer ...</td>\n",
       "    </tr>\n",
       "    <tr>\n",
       "      <th>2</th>\n",
       "      <td>3</td>\n",
       "      <td>0</td>\n",
       "      <td>bihday majesty</td>\n",
       "    </tr>\n",
       "    <tr>\n",
       "      <th>3</th>\n",
       "      <td>4</td>\n",
       "      <td>0</td>\n",
       "      <td>model love u take u time ur</td>\n",
       "    </tr>\n",
       "    <tr>\n",
       "      <th>4</th>\n",
       "      <td>5</td>\n",
       "      <td>0</td>\n",
       "      <td>factsguide society motivation</td>\n",
       "    </tr>\n",
       "  </tbody>\n",
       "</table>\n",
       "</div>"
      ],
      "text/plain": [
       "   id  label                                              tweet\n",
       "0   1      0  father dysfunctional selfish drags kids dysfun...\n",
       "1   2      0  user thanks lyft credit can't use cause offer ...\n",
       "2   3      0                                     bihday majesty\n",
       "3   4      0                        model love u take u time ur\n",
       "4   5      0                      factsguide society motivation"
      ]
     },
     "execution_count": 12,
     "metadata": {},
     "output_type": "execute_result"
    }
   ],
   "source": [
    "# Removing Hyperlinks, userIDS\n",
    "tweets.tweet = tweets.tweet.apply(clean)\n",
    "tweets.head()"
   ]
  },
  {
   "cell_type": "code",
   "execution_count": 13,
   "metadata": {
    "colab": {
     "base_uri": "https://localhost:8080/",
     "height": 70
    },
    "colab_type": "code",
    "id": "PDNoawnfI1O8",
    "outputId": "b8dda617-bbf0-4181-ccb1-085e7d7a2cf7"
   },
   "outputs": [
    {
     "name": "stdout",
     "output_type": "stream",
     "text": [
      "[nltk_data] Downloading package wordnet to\n",
      "[nltk_data]     C:\\Users\\vishn\\AppData\\Roaming\\nltk_data...\n",
      "[nltk_data]   Package wordnet is already up-to-date!\n"
     ]
    },
    {
     "data": {
      "text/plain": [
       "True"
      ]
     },
     "execution_count": 13,
     "metadata": {},
     "output_type": "execute_result"
    }
   ],
   "source": [
    "import nltk\n",
    "nltk.download('wordnet')"
   ]
  },
  {
   "cell_type": "code",
   "execution_count": 14,
   "metadata": {
    "colab": {
     "base_uri": "https://localhost:8080/",
     "height": 194
    },
    "colab_type": "code",
    "id": "v9PWXmGTGAsf",
    "outputId": "1a7dc964-83d7-436e-fbb3-aa9da5edc8c7"
   },
   "outputs": [
    {
     "data": {
      "text/html": [
       "<div>\n",
       "<style scoped>\n",
       "    .dataframe tbody tr th:only-of-type {\n",
       "        vertical-align: middle;\n",
       "    }\n",
       "\n",
       "    .dataframe tbody tr th {\n",
       "        vertical-align: top;\n",
       "    }\n",
       "\n",
       "    .dataframe thead th {\n",
       "        text-align: right;\n",
       "    }\n",
       "</style>\n",
       "<table border=\"1\" class=\"dataframe\">\n",
       "  <thead>\n",
       "    <tr style=\"text-align: right;\">\n",
       "      <th></th>\n",
       "      <th>id</th>\n",
       "      <th>label</th>\n",
       "      <th>tweet</th>\n",
       "    </tr>\n",
       "  </thead>\n",
       "  <tbody>\n",
       "    <tr>\n",
       "      <th>0</th>\n",
       "      <td>1</td>\n",
       "      <td>0</td>\n",
       "      <td>father dysfunctional selfish drag kid dysfunct...</td>\n",
       "    </tr>\n",
       "    <tr>\n",
       "      <th>1</th>\n",
       "      <td>2</td>\n",
       "      <td>0</td>\n",
       "      <td>user thank lyft credit can't use cause offer w...</td>\n",
       "    </tr>\n",
       "    <tr>\n",
       "      <th>2</th>\n",
       "      <td>3</td>\n",
       "      <td>0</td>\n",
       "      <td>bihday majesty</td>\n",
       "    </tr>\n",
       "    <tr>\n",
       "      <th>3</th>\n",
       "      <td>4</td>\n",
       "      <td>0</td>\n",
       "      <td>model love u take u time ur</td>\n",
       "    </tr>\n",
       "    <tr>\n",
       "      <th>4</th>\n",
       "      <td>5</td>\n",
       "      <td>0</td>\n",
       "      <td>factsguide society motivation</td>\n",
       "    </tr>\n",
       "  </tbody>\n",
       "</table>\n",
       "</div>"
      ],
      "text/plain": [
       "   id  label                                              tweet\n",
       "0   1      0  father dysfunctional selfish drag kid dysfunct...\n",
       "1   2      0  user thank lyft credit can't use cause offer w...\n",
       "2   3      0                                     bihday majesty\n",
       "3   4      0                        model love u take u time ur\n",
       "4   5      0                      factsguide society motivation"
      ]
     },
     "execution_count": 14,
     "metadata": {},
     "output_type": "execute_result"
    }
   ],
   "source": [
    "# Applying Lemmatization\n",
    "from nltk.stem.wordnet import WordNetLemmatizer\n",
    "wnl = WordNetLemmatizer()\n",
    "tweets.tweet=tweets.tweet.apply(lambda x:' '.join([wnl.lemmatize(word,'v') for word in x.split()])) # v stands for verb\n",
    "tweets.head()"
   ]
  },
  {
   "cell_type": "code",
   "execution_count": 15,
   "metadata": {
    "colab": {},
    "colab_type": "code",
    "id": "7oNiNUayGAsi"
   },
   "outputs": [],
   "source": [
    "# all words converted to lower case\n",
    "tweets.tweet=tweets.tweet.apply(lambda x:' '.join([word.lower() for word in x.split()]))"
   ]
  },
  {
   "cell_type": "markdown",
   "metadata": {
    "colab_type": "text",
    "id": "gmoKs9snGAsk"
   },
   "source": [
    "#### Applying same techniques for test data for cleaning"
   ]
  },
  {
   "cell_type": "code",
   "execution_count": 16,
   "metadata": {
    "colab": {},
    "colab_type": "code",
    "id": "wykxOgJAGAsk"
   },
   "outputs": [],
   "source": [
    "#reading test data input into X_test\n",
    "X_test = pd.read_csv('test.csv',encoding='latin- 1')\n",
    "# Removing Stopwords\n",
    "X_test.tweet=X_test.tweet.apply(lambda x: ' '.join([word for word in x.split() if word not in (stop)]))\n",
    "# Removing Hyperlinks, userIDS\n",
    "X_test.tweet = X_test.tweet.apply(clean)\n",
    "# Applying Lemmatization\n",
    "wnl1 = WordNetLemmatizer()\n",
    "X_test.tweet=X_test.tweet.apply(lambda x:' '.join([wnl1.lemmatize(word,'v') for word in x.split()])) # v stands for verb\n",
    "X_test.tweet=X_test.tweet.apply(lambda x:' '.join([word.lower() for word in x.split()]))"
   ]
  },
  {
   "cell_type": "markdown",
   "metadata": {
    "colab_type": "text",
    "id": "92jnGKcWGAsm"
   },
   "source": [
    "#### Reading result data"
   ]
  },
  {
   "cell_type": "code",
   "execution_count": 17,
   "metadata": {
    "colab": {},
    "colab_type": "code",
    "id": "drGc1ZDtGAsn"
   },
   "outputs": [],
   "source": [
    "# reading the test output into y_test\n",
    "y_test = pd.read_csv('result.csv')"
   ]
  },
  {
   "cell_type": "markdown",
   "metadata": {
    "colab_type": "text",
    "id": "8AmiqG_uGAsq"
   },
   "source": [
    "#### Applying TFIDF Vectorizer for train and test data"
   ]
  },
  {
   "cell_type": "code",
   "execution_count": 18,
   "metadata": {
    "colab": {},
    "colab_type": "code",
    "id": "ibyPFNa_GAsq"
   },
   "outputs": [],
   "source": [
    "## Importing TF IDF Vectorizer\n",
    "from sklearn.feature_extraction.text import TfidfVectorizer\n",
    "tfidf = TfidfVectorizer()"
   ]
  },
  {
   "cell_type": "code",
   "execution_count": 19,
   "metadata": {
    "colab": {
     "base_uri": "https://localhost:8080/",
     "height": 52
    },
    "colab_type": "code",
    "id": "WoA1mywPGAss",
    "outputId": "7059a1bb-74cf-4fc4-8685-3bc399b55cc4"
   },
   "outputs": [
    {
     "data": {
      "text/plain": [
       "<17197x35865 sparse matrix of type '<class 'numpy.float64'>'\n",
       "\twith 123657 stored elements in Compressed Sparse Row format>"
      ]
     },
     "execution_count": 19,
     "metadata": {},
     "output_type": "execute_result"
    }
   ],
   "source": [
    "#Applying tfidf to train data\n",
    "new_inp = tfidf.fit_transform(tweets.tweet)\n",
    "new_inp\n",
    "#Applying tfidf to test data\n",
    "test_inp = tfidf.transform(X_test.tweet)\n",
    "test_inp"
   ]
  },
  {
   "cell_type": "markdown",
   "metadata": {
    "colab_type": "text",
    "id": "kiMXcB9mGAsv"
   },
   "source": [
    "#### SMOTE  Syntheic minority oversampling technique"
   ]
  },
  {
   "cell_type": "code",
   "execution_count": 20,
   "metadata": {
    "colab": {
     "base_uri": "https://localhost:8080/",
     "height": 144
    },
    "colab_type": "code",
    "id": "kzpxmCxwGAsv",
    "outputId": "61b5d2e4-61cc-4af8-906e-bd5fcd36f5de"
   },
   "outputs": [],
   "source": [
    "# importing the SMOTE tool\n",
    "from imblearn.combine import SMOTETomek\n",
    "\n",
    "# creating an object\n",
    "smk = SMOTETomek(random_state=42)\n",
    "\n",
    "# generating the input and output training data after applying the sythentic generation \n",
    "X_train,y_train=smk.fit_sample(new_inp,tweets.label)"
   ]
  },
  {
   "cell_type": "code",
   "execution_count": 21,
   "metadata": {
    "colab": {
     "base_uri": "https://localhost:8080/",
     "height": 52
    },
    "colab_type": "code",
    "id": "2pBzhifXGAsy",
    "outputId": "59e2ac44-5fda-4236-bd9b-fbae05aead73"
   },
   "outputs": [
    {
     "name": "stdout",
     "output_type": "stream",
     "text": [
      "(59440, 35865)\n",
      "(59440,)\n"
     ]
    }
   ],
   "source": [
    "print(X_train.shape)\n",
    "print(y_train.shape)"
   ]
  },
  {
   "cell_type": "code",
   "execution_count": 22,
   "metadata": {
    "colab": {
     "base_uri": "https://localhost:8080/",
     "height": 70
    },
    "colab_type": "code",
    "id": "TGBehDTZGAs0",
    "outputId": "416f79c7-aa59-489a-f383-f59e609b4876"
   },
   "outputs": [
    {
     "data": {
      "text/plain": [
       "1    29720\n",
       "0    29720\n",
       "Name: label, dtype: int64"
      ]
     },
     "execution_count": 22,
     "metadata": {},
     "output_type": "execute_result"
    }
   ],
   "source": [
    "check=pd.DataFrame(y_train)          # converting y_train from np.array to data frame to check for the balancing outcome\n",
    "check.iloc[:,0].value_counts()       #  using index to generate counts of the label\n",
    "\n",
    "## we can see that both the labels are no equalized"
   ]
  },
  {
   "cell_type": "code",
   "execution_count": 23,
   "metadata": {
    "colab": {
     "base_uri": "https://localhost:8080/",
     "height": 70
    },
    "colab_type": "code",
    "id": "9JNiocU3eEOx",
    "outputId": "b671dcde-a66e-4f20-fe2c-94bda7eb8702"
   },
   "outputs": [
    {
     "data": {
      "text/plain": [
       "0    29720\n",
       "1     2242\n",
       "Name: label, dtype: int64"
      ]
     },
     "execution_count": 23,
     "metadata": {},
     "output_type": "execute_result"
    }
   ],
   "source": [
    "tweets.label.value_counts()\n",
    "\n",
    "## the label counts of the original data before synthetic generation."
   ]
  },
  {
   "cell_type": "code",
   "execution_count": null,
   "metadata": {
    "colab": {},
    "colab_type": "code",
    "id": "bRi8B6nBGAs5"
   },
   "outputs": [],
   "source": []
  },
  {
   "cell_type": "code",
   "execution_count": null,
   "metadata": {
    "colab": {},
    "colab_type": "code",
    "id": "hG1BZFzAGAs7"
   },
   "outputs": [],
   "source": []
  },
  {
   "cell_type": "markdown",
   "metadata": {
    "colab_type": "text",
    "id": "CXIxgTD-GAs9"
   },
   "source": [
    "### Logistic regression"
   ]
  },
  {
   "cell_type": "code",
   "execution_count": 24,
   "metadata": {
    "colab": {
     "base_uri": "https://localhost:8080/",
     "height": 106
    },
    "colab_type": "code",
    "id": "p1R4Ep84GAs-",
    "outputId": "1c635c02-47bb-414f-d938-089706fbdfe3"
   },
   "outputs": [
    {
     "data": {
      "text/plain": [
       "LogisticRegression()"
      ]
     },
     "execution_count": 24,
     "metadata": {},
     "output_type": "execute_result"
    }
   ],
   "source": [
    "# importing the model\n",
    "from sklearn.linear_model import LogisticRegression\n",
    "\n",
    "# creating object\n",
    "reg=LogisticRegression()\n",
    "\n",
    "# fitting object on training data\n",
    "reg.fit(X_train,y_train)"
   ]
  },
  {
   "cell_type": "code",
   "execution_count": 25,
   "metadata": {
    "colab": {},
    "colab_type": "code",
    "id": "vQDrBmWPGAtB"
   },
   "outputs": [],
   "source": [
    "#predicting on train data\n",
    "lg_train_pred=reg.predict(X_train)\n",
    "#predicting on test data\n",
    "lg_test_pred=reg.predict(test_inp)"
   ]
  },
  {
   "cell_type": "code",
   "execution_count": 26,
   "metadata": {
    "colab": {
     "base_uri": "https://localhost:8080/",
     "height": 390
    },
    "colab_type": "code",
    "id": "yIuJJaNvGAtF",
    "outputId": "cb0d4b7a-2ea1-4c26-bc7e-0b28664b0425"
   },
   "outputs": [
    {
     "name": "stdout",
     "output_type": "stream",
     "text": [
      "on training data :\n",
      "              precision    recall  f1-score   support\n",
      "\n",
      "           0     0.9672    0.9681    0.9676     29720\n",
      "           1     0.9680    0.9672    0.9676     29720\n",
      "\n",
      "    accuracy                         0.9676     59440\n",
      "   macro avg     0.9676    0.9676    0.9676     59440\n",
      "weighted avg     0.9676    0.9676    0.9676     59440\n",
      "\n",
      "----------------------------------------------------------------\n",
      "on testing data :\n",
      "              precision    recall  f1-score   support\n",
      "\n",
      "           0     0.9960    0.9396    0.9670     16282\n",
      "           1     0.4646    0.9333    0.6204       915\n",
      "\n",
      "    accuracy                         0.9392     17197\n",
      "   macro avg     0.7303    0.9364    0.7937     17197\n",
      "weighted avg     0.9678    0.9392    0.9485     17197\n",
      "\n"
     ]
    }
   ],
   "source": [
    "# Classification report on train and test\n",
    "from sklearn.metrics import classification_report,recall_score\n",
    "print(\"on training data :\")\n",
    "print(classification_report(y_train,lg_train_pred,digits=4))\n",
    "print('----------------------------------------------------------------')\n",
    "print('on testing data :')\n",
    "print(classification_report(y_test.label,lg_test_pred,digits=4))"
   ]
  },
  {
   "cell_type": "code",
   "execution_count": 27,
   "metadata": {
    "colab": {
     "base_uri": "https://localhost:8080/",
     "height": 35
    },
    "colab_type": "code",
    "id": "rQFUCK-BGAtJ",
    "outputId": "626f2ace-a404-4d44-9d61-594ae4735cea"
   },
   "outputs": [
    {
     "data": {
      "text/plain": [
       "0.9333333333333333"
      ]
     },
     "execution_count": 27,
     "metadata": {},
     "output_type": "execute_result"
    }
   ],
   "source": [
    "recall_score(y_test.label,lg_test_pred)"
   ]
  },
  {
   "cell_type": "code",
   "execution_count": 28,
   "metadata": {
    "colab": {},
    "colab_type": "code",
    "id": "fvH-NV_JWZZr"
   },
   "outputs": [],
   "source": [
    "## Hyper parameter turing for Logistic Regression"
   ]
  },
  {
   "cell_type": "markdown",
   "metadata": {
    "colab_type": "text",
    "id": "aEUr28meWjef"
   },
   "source": [
    "## Hyper parameter turing for Logistic Regression"
   ]
  },
  {
   "cell_type": "code",
   "execution_count": 29,
   "metadata": {
    "colab": {},
    "colab_type": "code",
    "id": "DjsnAMlCWaC8"
   },
   "outputs": [],
   "source": [
    "# Taking Parameters for performing HyperParameter Tuning\n",
    "dual=[True,False]\n",
    "max_iter= [800]\n",
    "C = [1.0,1.5,2.0,2.5]\n",
    "param_grid = dict(dual=dual,max_iter=max_iter,C=C)"
   ]
  },
  {
   "cell_type": "code",
   "execution_count": 30,
   "metadata": {
    "colab": {
     "base_uri": "https://localhost:8080/",
     "height": 266
    },
    "colab_type": "code",
    "id": "O7P6Bx2tWaPo",
    "outputId": "12d2aafb-bba2-4737-c679-15c5598a9153"
   },
   "outputs": [
    {
     "data": {
      "text/plain": [
       "GridSearchCV(cv=3, estimator=LogisticRegression(), n_jobs=-1,\n",
       "             param_grid={'C': [1.0, 1.5, 2.0, 2.5], 'dual': [True, False],\n",
       "                         'max_iter': [800]})"
      ]
     },
     "execution_count": 30,
     "metadata": {},
     "output_type": "execute_result"
    }
   ],
   "source": [
    "# Creating New Object for Hyper Parameter Tuning\n",
    "new_lr = LogisticRegression(penalty='l2')\n",
    "# Importing GridSearchCV for finding Best parameters\n",
    "from sklearn.model_selection import GridSearchCV\n",
    "# Initializing Object for GridSearchCV \n",
    "grid_search = GridSearchCV(estimator=new_lr, param_grid=param_grid, cv = 3, n_jobs=-1)\n",
    "# Fitting grid_search on Train data\n",
    "grid_search.fit(X_train, y_train)"
   ]
  },
  {
   "cell_type": "code",
   "execution_count": 31,
   "metadata": {
    "colab": {
     "base_uri": "https://localhost:8080/",
     "height": 35
    },
    "colab_type": "code",
    "id": "arHA75-6W439",
    "outputId": "df5c9e57-a5d4-4146-eeda-f29a2eca20a5"
   },
   "outputs": [
    {
     "data": {
      "text/plain": [
       "{'C': 2.5, 'dual': False, 'max_iter': 800}"
      ]
     },
     "execution_count": 31,
     "metadata": {},
     "output_type": "execute_result"
    }
   ],
   "source": [
    "grid_search.best_params_"
   ]
  },
  {
   "cell_type": "code",
   "execution_count": 32,
   "metadata": {
    "colab": {
     "base_uri": "https://localhost:8080/",
     "height": 106
    },
    "colab_type": "code",
    "id": "_kEs5oLZXMV7",
    "outputId": "86f713dc-abda-47bc-9166-3ea83203e9e1"
   },
   "outputs": [
    {
     "data": {
      "text/plain": [
       "LogisticRegression(C=2.5, max_iter=800)"
      ]
     },
     "execution_count": 32,
     "metadata": {},
     "output_type": "execute_result"
    }
   ],
   "source": [
    "# creating a model with generated best parameters\n",
    "new_lr=LogisticRegression(C=2.5,dual=False,max_iter=800)\n",
    "\n",
    "# fitting on training data:\n",
    "new_lr.fit(X_train,y_train)"
   ]
  },
  {
   "cell_type": "code",
   "execution_count": 33,
   "metadata": {
    "colab": {},
    "colab_type": "code",
    "id": "vZj60LS3W9Im"
   },
   "outputs": [],
   "source": [
    "# prediciton on training data\n",
    "y_train_pred_tuned_LR=new_lr.predict(X_train)\n",
    "\n",
    "# predicition on testing data\n",
    "y_test_pred_tuned_LR=new_lr.predict(test_inp)"
   ]
  },
  {
   "cell_type": "code",
   "execution_count": 34,
   "metadata": {
    "colab": {
     "base_uri": "https://localhost:8080/",
     "height": 390
    },
    "colab_type": "code",
    "id": "IU3cxTZ9XTrb",
    "outputId": "a7d00712-aa69-4c2c-9594-58aaf86c2355"
   },
   "outputs": [
    {
     "name": "stdout",
     "output_type": "stream",
     "text": [
      "on training data: \n",
      "              precision    recall  f1-score   support\n",
      "\n",
      "           0     0.9889    0.9797    0.9843     29720\n",
      "           1     0.9799    0.9890    0.9844     29720\n",
      "\n",
      "    accuracy                         0.9844     59440\n",
      "   macro avg     0.9844    0.9844    0.9844     59440\n",
      "weighted avg     0.9844    0.9844    0.9844     59440\n",
      "\n",
      "on testing data: \n",
      "----------------------------------------------------------------\n",
      "              precision    recall  f1-score   support\n",
      "\n",
      "           0     0.9941    0.9437    0.9683     16282\n",
      "           1     0.4736    0.9005    0.6207       915\n",
      "\n",
      "    accuracy                         0.9414     17197\n",
      "   macro avg     0.7338    0.9221    0.7945     17197\n",
      "weighted avg     0.9664    0.9414    0.9498     17197\n",
      "\n"
     ]
    }
   ],
   "source": [
    "# Classification report on train and test\n",
    "from sklearn.metrics import classification_report\n",
    "print(\"on training data: \")\n",
    "print(classification_report(y_train,y_train_pred_tuned_LR,digits=4))\n",
    "print(\"on testing data: \")\n",
    "print('----------------------------------------------------------------')\n",
    "print(classification_report(y_test.label,y_test_pred_tuned_LR,digits=4))"
   ]
  },
  {
   "cell_type": "markdown",
   "metadata": {
    "colab_type": "text",
    "id": "fNk4CBTUGAtM"
   },
   "source": [
    "### Multinomial NB"
   ]
  },
  {
   "cell_type": "code",
   "execution_count": 35,
   "metadata": {
    "colab": {
     "base_uri": "https://localhost:8080/",
     "height": 35
    },
    "colab_type": "code",
    "id": "5R6pmY6EGAtN",
    "outputId": "83325e66-d0db-48c7-d8f0-bd305e49d18d"
   },
   "outputs": [
    {
     "data": {
      "text/plain": [
       "MultinomialNB()"
      ]
     },
     "execution_count": 35,
     "metadata": {},
     "output_type": "execute_result"
    }
   ],
   "source": [
    "# import BernNB\n",
    "from sklearn.naive_bayes import MultinomialNB\n",
    "mnb = MultinomialNB()\n",
    "mnb.fit(X_train,y_train)"
   ]
  },
  {
   "cell_type": "code",
   "execution_count": 36,
   "metadata": {
    "colab": {},
    "colab_type": "code",
    "id": "yfQ-DSNMGAtP"
   },
   "outputs": [],
   "source": [
    "#predicting on train data\n",
    "mnb_train_pred=mnb.predict(X_train)\n",
    "#predicting on test data\n",
    "mnb_test_pred=mnb.predict(test_inp)"
   ]
  },
  {
   "cell_type": "code",
   "execution_count": 37,
   "metadata": {
    "colab": {
     "base_uri": "https://localhost:8080/",
     "height": 355
    },
    "colab_type": "code",
    "id": "zOl7wGY4GAtR",
    "outputId": "ebeb6f1e-b1ec-453d-9e31-9ba8f9293dda"
   },
   "outputs": [
    {
     "name": "stdout",
     "output_type": "stream",
     "text": [
      "              precision    recall  f1-score   support\n",
      "\n",
      "           0       0.99      0.95      0.97     29720\n",
      "           1       0.95      0.99      0.97     29720\n",
      "\n",
      "    accuracy                           0.97     59440\n",
      "   macro avg       0.97      0.97      0.97     59440\n",
      "weighted avg       0.97      0.97      0.97     59440\n",
      "\n",
      "----------------------------------------------------------------\n",
      "              precision    recall  f1-score   support\n",
      "\n",
      "           0       0.99      0.91      0.95     16282\n",
      "           1       0.36      0.90      0.52       915\n",
      "\n",
      "    accuracy                           0.91     17197\n",
      "   macro avg       0.68      0.91      0.74     17197\n",
      "weighted avg       0.96      0.91      0.93     17197\n",
      "\n"
     ]
    }
   ],
   "source": [
    "# Classification report on train and test\n",
    "from sklearn.metrics import classification_report\n",
    "print(classification_report(y_train,mnb_train_pred))\n",
    "print('----------------------------------------------------------------')\n",
    "print(classification_report(y_test.label,mnb_test_pred))"
   ]
  },
  {
   "cell_type": "code",
   "execution_count": 38,
   "metadata": {
    "colab": {
     "base_uri": "https://localhost:8080/",
     "height": 35
    },
    "colab_type": "code",
    "id": "m5jI3phVGAtT",
    "outputId": "57718459-e782-4b9a-ce0a-5fd6766bcfb9"
   },
   "outputs": [
    {
     "data": {
      "text/plain": [
       "0.9027322404371585"
      ]
     },
     "execution_count": 38,
     "metadata": {},
     "output_type": "execute_result"
    }
   ],
   "source": [
    "# recall on test data\n",
    "from sklearn.metrics import recall_score\n",
    "recall_score(y_test.label,mnb_test_pred)"
   ]
  },
  {
   "cell_type": "markdown",
   "metadata": {
    "colab_type": "text",
    "id": "ZgLcBykDGAtV"
   },
   "source": [
    "## Decision tree Classifier"
   ]
  },
  {
   "cell_type": "code",
   "execution_count": 39,
   "metadata": {
    "colab": {
     "base_uri": "https://localhost:8080/",
     "height": 124
    },
    "colab_type": "code",
    "id": "gqJ344l-GAtV",
    "outputId": "766b4fa9-bbce-402f-c734-aa044e5615ca"
   },
   "outputs": [
    {
     "data": {
      "text/plain": [
       "DecisionTreeClassifier(criterion='entropy')"
      ]
     },
     "execution_count": 39,
     "metadata": {},
     "output_type": "execute_result"
    }
   ],
   "source": [
    "# import the library\n",
    "from sklearn.tree import DecisionTreeClassifier\n",
    "# create object\n",
    "dtree=DecisionTreeClassifier(criterion='entropy')\n",
    "# fitting the data\n",
    "dtree.fit(X_train,y_train)"
   ]
  },
  {
   "cell_type": "code",
   "execution_count": 40,
   "metadata": {
    "colab": {},
    "colab_type": "code",
    "id": "YL7eMmqtGAtX"
   },
   "outputs": [],
   "source": [
    "#predicting on train data\n",
    "dtree_train_pred=dtree.predict(X_train)\n",
    "#predicting on test data\n",
    "dtree_test_pred=dtree.predict(test_inp)"
   ]
  },
  {
   "cell_type": "code",
   "execution_count": 41,
   "metadata": {
    "colab": {
     "base_uri": "https://localhost:8080/",
     "height": 390
    },
    "colab_type": "code",
    "id": "kYm70F0GGAtZ",
    "outputId": "fe708d11-532f-42a1-dc90-d1fc1f18b624"
   },
   "outputs": [
    {
     "name": "stdout",
     "output_type": "stream",
     "text": [
      "on training data\n",
      "              precision    recall  f1-score   support\n",
      "\n",
      "           0     0.9998    1.0000    0.9999     29720\n",
      "           1     1.0000    0.9998    0.9999     29720\n",
      "\n",
      "    accuracy                         0.9999     59440\n",
      "   macro avg     0.9999    0.9999    0.9999     59440\n",
      "weighted avg     0.9999    0.9999    0.9999     59440\n",
      "\n",
      "on testing data\n",
      "----------------------------------------------------------------\n",
      "              precision    recall  f1-score   support\n",
      "\n",
      "           0     0.9783    0.9680    0.9731     16282\n",
      "           1     0.5207    0.6186    0.5654       915\n",
      "\n",
      "    accuracy                         0.9494     17197\n",
      "   macro avg     0.7495    0.7933    0.7693     17197\n",
      "weighted avg     0.9540    0.9494    0.9514     17197\n",
      "\n"
     ]
    }
   ],
   "source": [
    "# Classification report on train and test\n",
    "from sklearn.metrics import classification_report\n",
    "print(\"on training data\")\n",
    "print(classification_report(y_train,dtree_train_pred,digits=4))\n",
    "print(\"on testing data\")\n",
    "print('----------------------------------------------------------------')\n",
    "print(classification_report(y_test.label,dtree_test_pred,digits=4))"
   ]
  },
  {
   "cell_type": "code",
   "execution_count": null,
   "metadata": {
    "colab": {},
    "colab_type": "code",
    "id": "YXlgtB8vGAtr"
   },
   "outputs": [],
   "source": []
  },
  {
   "cell_type": "markdown",
   "metadata": {
    "colab_type": "text",
    "id": "aKzvmIDxGAtt"
   },
   "source": [
    "## Hyper tuning from Decision Tree"
   ]
  },
  {
   "cell_type": "code",
   "execution_count": 3,
   "metadata": {
    "colab": {},
    "colab_type": "code",
    "id": "8_0iN3IeGAtt"
   },
   "outputs": [],
   "source": [
    "#  setting range of parameters\n",
    "grid_param = {\n",
    "    'criterion': ['gini', 'entropy'],\n",
    "    'max_depth' : range(2,32,1),\n",
    "    'min_samples_leaf' : range(1,10,1)\n",
    "    \n",
    "}"
   ]
  },
  {
   "cell_type": "code",
   "execution_count": null,
   "metadata": {
    "colab": {
     "base_uri": "https://localhost:8080/",
     "height": 487
    },
    "colab_type": "code",
    "id": "65osFbgCGAtw",
    "outputId": "3f199a32-701c-44b2-9f35-3f6d122896e7"
   },
   "outputs": [
    {
     "name": "stdout",
     "output_type": "stream",
     "text": [
      "Fitting 3 folds for each of 540 candidates, totalling 1620 fits\n"
     ]
    },
    {
     "name": "stderr",
     "output_type": "stream",
     "text": [
      "[Parallel(n_jobs=-1)]: Using backend LokyBackend with 2 concurrent workers.\n",
      "[Parallel(n_jobs=-1)]: Done  37 tasks      | elapsed:   18.9s\n",
      "[Parallel(n_jobs=-1)]: Done 158 tasks      | elapsed:  1.5min\n",
      "[Parallel(n_jobs=-1)]: Done 361 tasks      | elapsed:  4.4min\n",
      "[Parallel(n_jobs=-1)]: Done 644 tasks      | elapsed: 10.6min\n",
      "[Parallel(n_jobs=-1)]: Done 1009 tasks      | elapsed: 17.5min\n",
      "[Parallel(n_jobs=-1)]: Done 1454 tasks      | elapsed: 27.4min\n",
      "[Parallel(n_jobs=-1)]: Done 1620 out of 1620 | elapsed: 32.5min finished\n"
     ]
    },
    {
     "data": {
      "text/plain": [
       "GridSearchCV(cv=3, error_score=nan,\n",
       "             estimator=DecisionTreeClassifier(ccp_alpha=0.0, class_weight=None,\n",
       "                                              criterion='gini', max_depth=None,\n",
       "                                              max_features=None,\n",
       "                                              max_leaf_nodes=None,\n",
       "                                              min_impurity_decrease=0.0,\n",
       "                                              min_impurity_split=None,\n",
       "                                              min_samples_leaf=1,\n",
       "                                              min_samples_split=2,\n",
       "                                              min_weight_fraction_leaf=0.0,\n",
       "                                              presort='deprecated',\n",
       "                                              random_state=None,\n",
       "                                              splitter='best'),\n",
       "             iid='deprecated', n_jobs=-1,\n",
       "             param_grid={'criterion': ['gini', 'entropy'],\n",
       "                         'max_depth': range(2, 32),\n",
       "                         'min_samples_leaf': range(1, 10)},\n",
       "             pre_dispatch='2*n_jobs', refit=True, return_train_score=False,\n",
       "             scoring=None, verbose=2)"
      ]
     },
     "execution_count": 92,
     "metadata": {
      "tags": []
     },
     "output_type": "execute_result"
    }
   ],
   "source": [
    "#Import the GridSearchCV \n",
    "from sklearn.model_selection import GridSearchCV\n",
    "\n",
    "# initialization of GridSearch with the parameters- ModelName and the dictionary of parameters\n",
    "clf = DecisionTreeClassifier()\n",
    "grid_search = GridSearchCV(estimator=clf, param_grid=grid_param,n_jobs=-1,cv=3,verbose=2)\n",
    "\n",
    "# applying gridsearch onto dataset\n",
    "grid_search.fit(X_train, y_train)"
   ]
  },
  {
   "cell_type": "code",
   "execution_count": null,
   "metadata": {
    "colab": {
     "base_uri": "https://localhost:8080/",
     "height": 34
    },
    "colab_type": "code",
    "id": "5RNVQbh8UWjz",
    "outputId": "106778b4-7f0a-4dcf-8ff1-ae2fd341009a"
   },
   "outputs": [
    {
     "data": {
      "text/plain": [
       "{'criterion': 'gini', 'max_depth': 31, 'min_samples_leaf': 1}"
      ]
     },
     "execution_count": 93,
     "metadata": {
      "tags": []
     },
     "output_type": "execute_result"
    }
   ],
   "source": [
    "# generating best params\n",
    "grid_search.best_params_"
   ]
  },
  {
   "cell_type": "code",
   "execution_count": 42,
   "metadata": {
    "colab": {},
    "colab_type": "code",
    "id": "lqTnbi2IUgPJ"
   },
   "outputs": [],
   "source": [
    "# creating model with best parameters:\n",
    "clf=DecisionTreeClassifier(criterion='gini',max_depth=31,min_samples_leaf=1)"
   ]
  },
  {
   "cell_type": "code",
   "execution_count": 43,
   "metadata": {
    "colab": {
     "base_uri": "https://localhost:8080/",
     "height": 124
    },
    "colab_type": "code",
    "id": "SX62kromUoKW",
    "outputId": "65d95503-684e-4da7-cbaa-49ef5d628eb5"
   },
   "outputs": [
    {
     "data": {
      "text/plain": [
       "DecisionTreeClassifier(max_depth=31)"
      ]
     },
     "execution_count": 43,
     "metadata": {},
     "output_type": "execute_result"
    }
   ],
   "source": [
    "clf.fit(X_train,y_train)"
   ]
  },
  {
   "cell_type": "code",
   "execution_count": 44,
   "metadata": {
    "colab": {},
    "colab_type": "code",
    "id": "AIocSThuUs0n"
   },
   "outputs": [],
   "source": [
    "## predicting on training:\n",
    "y_train_pred_tuned=clf.predict(X_train)\n",
    "## predicting on testing data:\n",
    "y_test_pred_tuned=clf.predict(test_inp)"
   ]
  },
  {
   "cell_type": "code",
   "execution_count": 45,
   "metadata": {
    "colab": {
     "base_uri": "https://localhost:8080/",
     "height": 355
    },
    "colab_type": "code",
    "id": "5qIRJ5umVJ4V",
    "outputId": "2131af4f-802d-4fcd-a219-a14b992232f5"
   },
   "outputs": [
    {
     "name": "stdout",
     "output_type": "stream",
     "text": [
      "              precision    recall  f1-score   support\n",
      "\n",
      "           0     0.8560    0.9921    0.9190     29720\n",
      "           1     0.9906    0.8330    0.9050     29720\n",
      "\n",
      "    accuracy                         0.9126     59440\n",
      "   macro avg     0.9233    0.9126    0.9120     59440\n",
      "weighted avg     0.9233    0.9126    0.9120     59440\n",
      "\n",
      "----------------------------------------------------------------\n",
      "              precision    recall  f1-score   support\n",
      "\n",
      "           0     0.9836    0.9713    0.9774     16282\n",
      "           1     0.5818    0.7115    0.6401       915\n",
      "\n",
      "    accuracy                         0.9574     17197\n",
      "   macro avg     0.7827    0.8414    0.8087     17197\n",
      "weighted avg     0.9622    0.9574    0.9594     17197\n",
      "\n"
     ]
    }
   ],
   "source": [
    "# Classification report on train and test after hyper tuning for decision tree\n",
    "from sklearn.metrics import classification_report\n",
    "print(classification_report(y_train,y_train_pred_tuned,digits=4))\n",
    "print('----------------------------------------------------------------')\n",
    "print(classification_report(y_test.label,y_test_pred_tuned,digits=4))"
   ]
  },
  {
   "cell_type": "code",
   "execution_count": 46,
   "metadata": {
    "colab": {
     "base_uri": "https://localhost:8080/",
     "height": 355
    },
    "colab_type": "code",
    "id": "nT8B2tnkVlCF",
    "outputId": "efa9b200-9399-4da2-b1d2-fa8c813484bf"
   },
   "outputs": [
    {
     "name": "stdout",
     "output_type": "stream",
     "text": [
      "              precision    recall  f1-score   support\n",
      "\n",
      "           0     0.9998    1.0000    0.9999     29720\n",
      "           1     1.0000    0.9998    0.9999     29720\n",
      "\n",
      "    accuracy                         0.9999     59440\n",
      "   macro avg     0.9999    0.9999    0.9999     59440\n",
      "weighted avg     0.9999    0.9999    0.9999     59440\n",
      "\n",
      "----------------------------------------------------------------\n",
      "              precision    recall  f1-score   support\n",
      "\n",
      "           0     0.9783    0.9680    0.9731     16282\n",
      "           1     0.5207    0.6186    0.5654       915\n",
      "\n",
      "    accuracy                         0.9494     17197\n",
      "   macro avg     0.7495    0.7933    0.7693     17197\n",
      "weighted avg     0.9540    0.9494    0.9514     17197\n",
      "\n"
     ]
    }
   ],
   "source": [
    "# Classification report on train and test before hyper tuning for decision tree.\n",
    "from sklearn.metrics import classification_report\n",
    "print(classification_report(y_train,dtree_train_pred,digits=4))\n",
    "print('----------------------------------------------------------------')\n",
    "print(classification_report(y_test.label,dtree_test_pred,digits=4))"
   ]
  },
  {
   "cell_type": "markdown",
   "metadata": {},
   "source": [
    "# AUC-ROC for Logistic Regression"
   ]
  },
  {
   "cell_type": "code",
   "execution_count": 69,
   "metadata": {},
   "outputs": [],
   "source": [
    "# calculating the class probability for one class\n",
    "y_test_prob_log_reg=new_lr.predict_proba(test_inp)\n",
    "y_test_prob_log_reg=pd.DataFrame(y_test_prob_log_reg)\n",
    "y_test_prob_log_reg=y_test_prob_log_reg.iloc[:,1]"
   ]
  },
  {
   "cell_type": "code",
   "execution_count": 70,
   "metadata": {},
   "outputs": [],
   "source": [
    "# obtaining false Positive rate,true positive rate and threshold.\n",
    "from sklearn.metrics import roc_auc_score, roc_curve\n",
    "fpr, tpr, threshold = roc_curve(y_test.label,y_test_prob_log_reg)"
   ]
  },
  {
   "cell_type": "code",
   "execution_count": 71,
   "metadata": {},
   "outputs": [
    {
     "data": {
      "text/plain": [
       "[<matplotlib.lines.Line2D at 0x19e196f6908>]"
      ]
     },
     "execution_count": 71,
     "metadata": {},
     "output_type": "execute_result"
    },
    {
     "data": {
      "image/png": "[encoded data removed]",
      "text/plain": [
       "<Figure size 432x288 with 1 Axes>"
      ]
     },
     "metadata": {
      "needs_background": "light"
     },
     "output_type": "display_data"
    }
   ],
   "source": [
    "# plotting the curve\n",
    "plt.plot(fpr,tpr)"
   ]
  },
  {
   "cell_type": "code",
   "execution_count": 72,
   "metadata": {},
   "outputs": [
    {
     "data": {
      "text/plain": [
       "0.9768890920477405"
      ]
     },
     "execution_count": 72,
     "metadata": {},
     "output_type": "execute_result"
    }
   ],
   "source": [
    "# roc_auc score\n",
    "roc_auc_score(y_test.label,y_test_prob_log_reg)"
   ]
  },
  {
   "cell_type": "markdown",
   "metadata": {},
   "source": [
    "# AUC-ROC for Decision tree classifier "
   ]
  },
  {
   "cell_type": "code",
   "execution_count": 74,
   "metadata": {},
   "outputs": [],
   "source": [
    "# calculating the class probability for one class\n",
    "y_prob_d_Tree=clf.predict_proba(test_inp)\n",
    "y_prob_d_Tree=pd.DataFrame(y_prob_d_Tree)\n",
    "y_prob_d_Tree=y_prob_d_Tree.iloc[:,1]"
   ]
  },
  {
   "cell_type": "code",
   "execution_count": 75,
   "metadata": {},
   "outputs": [],
   "source": [
    "# obtaining false Positive rate,true positive rate and threshold.\n",
    "fpr, tpr, threshold = roc_curve(y_test.label,y_prob_d_Tree)"
   ]
  },
  {
   "cell_type": "code",
   "execution_count": 76,
   "metadata": {},
   "outputs": [
    {
     "data": {
      "text/plain": [
       "[<matplotlib.lines.Line2D at 0x19e197503c8>]"
      ]
     },
     "execution_count": 76,
     "metadata": {},
     "output_type": "execute_result"
    },
    {
     "data": {
      "image/png": "[encoded data removed]",
      "text/plain": [
       "<Figure size 432x288 with 1 Axes>"
      ]
     },
     "metadata": {
      "needs_background": "light"
     },
     "output_type": "display_data"
    }
   ],
   "source": [
    "#plotting the curve\n",
    "plt.plot(fpr,tpr)"
   ]
  },
  {
   "cell_type": "code",
   "execution_count": 77,
   "metadata": {},
   "outputs": [
    {
     "data": {
      "text/plain": [
       "0.7857406650409483"
      ]
     },
     "execution_count": 77,
     "metadata": {},
     "output_type": "execute_result"
    }
   ],
   "source": [
    "# roc_auc score\n",
    "roc_auc_score(y_test.label,y_prob_d_Tree)"
   ]
  },
  {
   "cell_type": "markdown",
   "metadata": {},
   "source": [
    "Comparing the accuracies: \n",
    "\tMultinomial Naive Bayes - 0.91 on test data\n",
    "\tDecision Tree - 0.958 after parameter tuning.\n",
    "\tLogistic Regression - 0.9390 after parameter tuning .\n",
    "Since Multinomial Naive Bayes has the least accuracy among the three, it is eliminated. \n",
    "\n",
    "From observing the AUCROC curve, Logistic regression has more area under the curve as we can see above,hence,it\n",
    "is concluded that Logistic Regression is the best suitable algorithm\n"
   ]
  },
  {
   "cell_type": "code",
   "execution_count": null,
   "metadata": {},
   "outputs": [],
   "source": []
  },
  {
   "cell_type": "code",
   "execution_count": null,
   "metadata": {},
   "outputs": [],
   "source": []
  },
  {
   "cell_type": "code",
   "execution_count": 47,
   "metadata": {
    "colab": {
     "base_uri": "https://localhost:8080/",
     "height": 177
    },
    "colab_type": "code",
    "id": "du382JjuTvMw",
    "outputId": "d96eb0bd-fffc-4627-b7c8-fb7d3bf795b3"
   },
   "outputs": [
    {
     "name": "stdout",
     "output_type": "stream",
     "text": [
      "Requirement already satisfied: GetOldTweets3 in c:\\users\\vishn\\anaconda3\\lib\\site-packages (0.0.11)\n",
      "Requirement already satisfied: lxml>=3.5.0 in c:\\users\\vishn\\anaconda3\\lib\\site-packages (from GetOldTweets3) (4.4.1)\n",
      "Requirement already satisfied: pyquery>=1.2.10 in c:\\users\\vishn\\anaconda3\\lib\\site-packages (from GetOldTweets3) (1.4.1)\n",
      "Requirement already satisfied: cssselect>0.7.9 in c:\\users\\vishn\\anaconda3\\lib\\site-packages (from pyquery>=1.2.10->GetOldTweets3) (1.1.0)\n"
     ]
    }
   ],
   "source": [
    "!pip install GetOldTweets3"
   ]
  },
  {
   "cell_type": "code",
   "execution_count": 48,
   "metadata": {
    "colab": {
     "base_uri": "https://localhost:8080/",
     "height": 35
    },
    "colab_type": "code",
    "id": "gVf84r26T4I4",
    "outputId": "8867cf44-bf84-4b77-f8d5-571551cf8aee"
   },
   "outputs": [
    {
     "name": "stdout",
     "output_type": "stream",
     "text": [
      "Enter the topic to run sentiment analysis on :feminist movement\n"
     ]
    }
   ],
   "source": [
    "import GetOldTweets3 as got\n",
    "tag=input(\"Enter the topic to run sentiment analysis on :\")\n",
    "limit=1000"
   ]
  },
  {
   "cell_type": "code",
   "execution_count": 49,
   "metadata": {
    "colab": {},
    "colab_type": "code",
    "id": "VJgrl-v2U9RG"
   },
   "outputs": [],
   "source": [
    "# setting search criteria using tweetCriteria model\n",
    "tweetCriteria = got.manager.TweetCriteria().setQuerySearch(tag)\\\n",
    "                                           .setMaxTweets(limit)             \n",
    "\n",
    "# get tweets using getTweets method:\n",
    "tweet = got.manager.TweetManager.getTweets(tweetCriteria)"
   ]
  },
  {
   "cell_type": "code",
   "execution_count": 50,
   "metadata": {
    "colab": {},
    "colab_type": "code",
    "id": "npeatXcKVWib"
   },
   "outputs": [],
   "source": [
    "# converting the \"data\" and \"text\" attributes from model to list of lists:\n",
    "tweet_in = [[i.date, i.text] for i in tweet]"
   ]
  },
  {
   "cell_type": "code",
   "execution_count": 51,
   "metadata": {
    "colab": {
     "base_uri": "https://localhost:8080/",
     "height": 194
    },
    "colab_type": "code",
    "id": "7X2LTmO8VkJx",
    "outputId": "40f3e498-95df-4dfe-e0f3-a93c96703187"
   },
   "outputs": [
    {
     "data": {
      "text/html": [
       "<div>\n",
       "<style scoped>\n",
       "    .dataframe tbody tr th:only-of-type {\n",
       "        vertical-align: middle;\n",
       "    }\n",
       "\n",
       "    .dataframe tbody tr th {\n",
       "        vertical-align: top;\n",
       "    }\n",
       "\n",
       "    .dataframe thead th {\n",
       "        text-align: right;\n",
       "    }\n",
       "</style>\n",
       "<table border=\"1\" class=\"dataframe\">\n",
       "  <thead>\n",
       "    <tr style=\"text-align: right;\">\n",
       "      <th></th>\n",
       "      <th>time</th>\n",
       "      <th>text</th>\n",
       "    </tr>\n",
       "  </thead>\n",
       "  <tbody>\n",
       "    <tr>\n",
       "      <th>0</th>\n",
       "      <td>2020-07-28 15:15:15+00:00</td>\n",
       "      <td>“The feminist movement has provided women with...</td>\n",
       "    </tr>\n",
       "    <tr>\n",
       "      <th>1</th>\n",
       "      <td>2020-07-22 07:30:00+00:00</td>\n",
       "      <td>Galaxy &amp; BTS unite! Introducing the exclusive ...</td>\n",
       "    </tr>\n",
       "    <tr>\n",
       "      <th>2</th>\n",
       "      <td>2020-07-28 15:05:33+00:00</td>\n",
       "      <td>That’s not his first tweet I have seen against...</td>\n",
       "    </tr>\n",
       "    <tr>\n",
       "      <th>3</th>\n",
       "      <td>2020-07-28 15:02:03+00:00</td>\n",
       "      <td>#challengeaccepted is the black square of the ...</td>\n",
       "    </tr>\n",
       "    <tr>\n",
       "      <th>4</th>\n",
       "      <td>2020-07-28 15:00:42+00:00</td>\n",
       "      <td>Reading about the start of the sexual revoluti...</td>\n",
       "    </tr>\n",
       "  </tbody>\n",
       "</table>\n",
       "</div>"
      ],
      "text/plain": [
       "                       time                                               text\n",
       "0 2020-07-28 15:15:15+00:00  “The feminist movement has provided women with...\n",
       "1 2020-07-22 07:30:00+00:00  Galaxy & BTS unite! Introducing the exclusive ...\n",
       "2 2020-07-28 15:05:33+00:00  That’s not his first tweet I have seen against...\n",
       "3 2020-07-28 15:02:03+00:00  #challengeaccepted is the black square of the ...\n",
       "4 2020-07-28 15:00:42+00:00  Reading about the start of the sexual revoluti..."
      ]
     },
     "execution_count": 51,
     "metadata": {},
     "output_type": "execute_result"
    }
   ],
   "source": [
    "# converting the list of lists to dataframe:\n",
    "tweet_in=pd.DataFrame(tweet_in,columns=[\"time\",\"text\"])\n",
    "tweet_in.head()"
   ]
  },
  {
   "cell_type": "code",
   "execution_count": 52,
   "metadata": {
    "colab": {
     "base_uri": "https://localhost:8080/",
     "height": 35
    },
    "colab_type": "code",
    "id": "v4mmYlepUnBC",
    "outputId": "d5139671-dd4e-43cd-8bd0-936426088d19"
   },
   "outputs": [
    {
     "data": {
      "text/plain": [
       "['2020-07-28', '15:15:15+00:00']"
      ]
     },
     "execution_count": 52,
     "metadata": {},
     "output_type": "execute_result"
    }
   ],
   "source": [
    "str(tweet_in.iloc[0,0]).split(\" \")"
   ]
  },
  {
   "cell_type": "code",
   "execution_count": 53,
   "metadata": {
    "colab": {
     "base_uri": "https://localhost:8080/",
     "height": 194
    },
    "colab_type": "code",
    "id": "fB7RJF1qXTrp",
    "outputId": "0a97752e-32e2-4cc1-b34d-d765e88f2103"
   },
   "outputs": [
    {
     "data": {
      "text/html": [
       "<div>\n",
       "<style scoped>\n",
       "    .dataframe tbody tr th:only-of-type {\n",
       "        vertical-align: middle;\n",
       "    }\n",
       "\n",
       "    .dataframe tbody tr th {\n",
       "        vertical-align: top;\n",
       "    }\n",
       "\n",
       "    .dataframe thead th {\n",
       "        text-align: right;\n",
       "    }\n",
       "</style>\n",
       "<table border=\"1\" class=\"dataframe\">\n",
       "  <thead>\n",
       "    <tr style=\"text-align: right;\">\n",
       "      <th></th>\n",
       "      <th>time</th>\n",
       "      <th>text</th>\n",
       "    </tr>\n",
       "  </thead>\n",
       "  <tbody>\n",
       "    <tr>\n",
       "      <th>0</th>\n",
       "      <td>2020-07-28 15:15:15+00:00</td>\n",
       "      <td>“The feminist movement has provided women with...</td>\n",
       "    </tr>\n",
       "    <tr>\n",
       "      <th>1</th>\n",
       "      <td>2020-07-22 07:30:00+00:00</td>\n",
       "      <td>Galaxy &amp; BTS unite! Introducing the exclusive ...</td>\n",
       "    </tr>\n",
       "    <tr>\n",
       "      <th>2</th>\n",
       "      <td>2020-07-28 15:05:33+00:00</td>\n",
       "      <td>That’s not his first tweet I have seen against...</td>\n",
       "    </tr>\n",
       "    <tr>\n",
       "      <th>3</th>\n",
       "      <td>2020-07-28 15:02:03+00:00</td>\n",
       "      <td>#challengeaccepted is the black square of the ...</td>\n",
       "    </tr>\n",
       "    <tr>\n",
       "      <th>4</th>\n",
       "      <td>2020-07-28 15:00:42+00:00</td>\n",
       "      <td>Reading about the start of the sexual revoluti...</td>\n",
       "    </tr>\n",
       "  </tbody>\n",
       "</table>\n",
       "</div>"
      ],
      "text/plain": [
       "                       time                                               text\n",
       "0 2020-07-28 15:15:15+00:00  “The feminist movement has provided women with...\n",
       "1 2020-07-22 07:30:00+00:00  Galaxy & BTS unite! Introducing the exclusive ...\n",
       "2 2020-07-28 15:05:33+00:00  That’s not his first tweet I have seen against...\n",
       "3 2020-07-28 15:02:03+00:00  #challengeaccepted is the black square of the ...\n",
       "4 2020-07-28 15:00:42+00:00  Reading about the start of the sexual revoluti..."
      ]
     },
     "execution_count": 53,
     "metadata": {},
     "output_type": "execute_result"
    }
   ],
   "source": [
    "tweet_in.head()"
   ]
  },
  {
   "cell_type": "code",
   "execution_count": 54,
   "metadata": {
    "colab": {},
    "colab_type": "code",
    "id": "Vlq6iysZWLof"
   },
   "outputs": [],
   "source": [
    "#making the predictions by converting the dataFrame by using tfidf vectorizer\n",
    "real_world_pred=new_lr.predict(tfidf.transform(tweet_in.iloc[:,1]))"
   ]
  },
  {
   "cell_type": "code",
   "execution_count": 55,
   "metadata": {
    "colab": {},
    "colab_type": "code",
    "id": "LsSHr460WFfQ"
   },
   "outputs": [],
   "source": [
    "# Creating the output column\n",
    "tweet_in['label']=real_world_pred"
   ]
  },
  {
   "cell_type": "code",
   "execution_count": 56,
   "metadata": {
    "colab": {
     "base_uri": "https://localhost:8080/",
     "height": 194
    },
    "colab_type": "code",
    "id": "ei5LQc5jWdqZ",
    "outputId": "9c0ea6fa-8a34-4933-de19-7741dc5d28a8"
   },
   "outputs": [
    {
     "data": {
      "text/html": [
       "<div>\n",
       "<style scoped>\n",
       "    .dataframe tbody tr th:only-of-type {\n",
       "        vertical-align: middle;\n",
       "    }\n",
       "\n",
       "    .dataframe tbody tr th {\n",
       "        vertical-align: top;\n",
       "    }\n",
       "\n",
       "    .dataframe thead th {\n",
       "        text-align: right;\n",
       "    }\n",
       "</style>\n",
       "<table border=\"1\" class=\"dataframe\">\n",
       "  <thead>\n",
       "    <tr style=\"text-align: right;\">\n",
       "      <th></th>\n",
       "      <th>time</th>\n",
       "      <th>text</th>\n",
       "      <th>label</th>\n",
       "    </tr>\n",
       "  </thead>\n",
       "  <tbody>\n",
       "    <tr>\n",
       "      <th>0</th>\n",
       "      <td>2020-07-28 15:15:15+00:00</td>\n",
       "      <td>“The feminist movement has provided women with...</td>\n",
       "      <td>1</td>\n",
       "    </tr>\n",
       "    <tr>\n",
       "      <th>1</th>\n",
       "      <td>2020-07-22 07:30:00+00:00</td>\n",
       "      <td>Galaxy &amp; BTS unite! Introducing the exclusive ...</td>\n",
       "      <td>0</td>\n",
       "    </tr>\n",
       "    <tr>\n",
       "      <th>2</th>\n",
       "      <td>2020-07-28 15:05:33+00:00</td>\n",
       "      <td>That’s not his first tweet I have seen against...</td>\n",
       "      <td>1</td>\n",
       "    </tr>\n",
       "    <tr>\n",
       "      <th>3</th>\n",
       "      <td>2020-07-28 15:02:03+00:00</td>\n",
       "      <td>#challengeaccepted is the black square of the ...</td>\n",
       "      <td>1</td>\n",
       "    </tr>\n",
       "    <tr>\n",
       "      <th>4</th>\n",
       "      <td>2020-07-28 15:00:42+00:00</td>\n",
       "      <td>Reading about the start of the sexual revoluti...</td>\n",
       "      <td>0</td>\n",
       "    </tr>\n",
       "  </tbody>\n",
       "</table>\n",
       "</div>"
      ],
      "text/plain": [
       "                       time  \\\n",
       "0 2020-07-28 15:15:15+00:00   \n",
       "1 2020-07-22 07:30:00+00:00   \n",
       "2 2020-07-28 15:05:33+00:00   \n",
       "3 2020-07-28 15:02:03+00:00   \n",
       "4 2020-07-28 15:00:42+00:00   \n",
       "\n",
       "                                                text  label  \n",
       "0  “The feminist movement has provided women with...      1  \n",
       "1  Galaxy & BTS unite! Introducing the exclusive ...      0  \n",
       "2  That’s not his first tweet I have seen against...      1  \n",
       "3  #challengeaccepted is the black square of the ...      1  \n",
       "4  Reading about the start of the sexual revoluti...      0  "
      ]
     },
     "execution_count": 56,
     "metadata": {},
     "output_type": "execute_result"
    }
   ],
   "source": [
    "tweet_in.head()"
   ]
  },
  {
   "cell_type": "code",
   "execution_count": 57,
   "metadata": {
    "colab": {
     "base_uri": "https://localhost:8080/",
     "height": 279
    },
    "colab_type": "code",
    "id": "DooIcfkSXkrG",
    "outputId": "12e3149d-224d-4cc5-b723-8e92604001ff"
   },
   "outputs": [
    {
     "data": {
      "image/png": "[encoded data removed]",
      "text/plain": [
       "<Figure size 432x288 with 1 Axes>"
      ]
     },
     "metadata": {
      "needs_background": "light"
     },
     "output_type": "display_data"
    }
   ],
   "source": [
    "import matplotlib.pyplot as plt\n",
    "plt.xlabel(\"Sentiment label\")\n",
    "plt.ylabel(\"count\")\n",
    "sns.countplot(real_world_pred)\n",
    "# 0- positive tweets\n",
    "# 1- negative tweets\n",
    "plt.show()"
   ]
  },
  {
   "cell_type": "markdown",
   "metadata": {
    "colab_type": "text",
    "id": "pmXA2rbjLo0_"
   },
   "source": [
    "# Observations :\n",
    "  - The topic \"feminist movement\" have a 1:3 positive:negative sentiment\n",
    "  "
   ]
  },
  {
   "cell_type": "code",
   "execution_count": 80,
   "metadata": {
    "colab": {
     "base_uri": "https://localhost:8080/",
     "height": 67
    },
    "colab_type": "code",
    "id": "06KE719WIUr2",
    "outputId": "3ecb80e8-30dc-4d64-be69-f764d55a9b66"
   },
   "outputs": [
    {
     "data": {
      "text/plain": [
       "1    759\n",
       "0    241\n",
       "Name: label, dtype: int64"
      ]
     },
     "execution_count": 80,
     "metadata": {},
     "output_type": "execute_result"
    }
   ],
   "source": [
    "tweet_in.label.value_counts()"
   ]
  },
  {
   "cell_type": "code",
   "execution_count": 79,
   "metadata": {
    "colab": {
     "base_uri": "https://localhost:8080/",
     "height": 470
    },
    "colab_type": "code",
    "id": "HEiSI5IXZqtA",
    "outputId": "ea64b181-5c95-4415-e2fe-da2e959dbd7e"
   },
   "outputs": [
    {
     "data": {
      "image/png": "[encoded data removed]",
      "text/plain": [
       "<Figure size 432x288 with 1 Axes>"
      ]
     },
     "metadata": {},
     "output_type": "display_data"
    }
   ],
   "source": [
    "plt.pie(list(tweet_in.label.value_counts()), labels=['Negative tweets','Positive tweets'],\n",
    "        labeldistance=0.5,radius= 2.5,startangle=40,colors= ['cyan',\"blue\"])\n",
    "plt.show()"
   ]
  },
  {
   "cell_type": "markdown",
   "metadata": {
    "colab_type": "text",
    "id": "ymcqW9dGPsPT"
   },
   "source": [
    "# Observations:\n",
    "- There are about 506 positive tweets \n",
    "and 494 negative tweets"
   ]
  },
  {
   "cell_type": "code",
   "execution_count": 60,
   "metadata": {},
   "outputs": [],
   "source": [
    "y_test_prob_log_reg=new_lr.predict_proba(test_inp)\n",
    "y_test_prob_log_reg=pd.DataFrame(y_test_prob_log_reg)\n",
    "y_test_prob_log_reg=y_test_prob_log_reg.iloc[:,1]"
   ]
  },
  {
   "cell_type": "code",
   "execution_count": 61,
   "metadata": {},
   "outputs": [],
   "source": [
    "from sklearn.metrics import roc_auc_score, roc_curve\n",
    "fpr, tpr, threshold = roc_curve(y_test.label,y_test_prob_log_reg)"
   ]
  },
  {
   "cell_type": "code",
   "execution_count": 62,
   "metadata": {},
   "outputs": [
    {
     "data": {
      "text/plain": [
       "[<matplotlib.lines.Line2D at 0x19e196584e0>]"
      ]
     },
     "execution_count": 62,
     "metadata": {},
     "output_type": "execute_result"
    },
    {
     "data": {
      "image/png": "[encoded data removed]",
      "text/plain": [
       "<Figure size 432x288 with 1 Axes>"
      ]
     },
     "metadata": {
      "needs_background": "light"
     },
     "output_type": "display_data"
    }
   ],
   "source": [
    "plt.plot(fpr,tpr)"
   ]
  },
  {
   "cell_type": "code",
   "execution_count": 63,
   "metadata": {},
   "outputs": [
    {
     "data": {
      "text/plain": [
       "0.9768890920477405"
      ]
     },
     "execution_count": 63,
     "metadata": {},
     "output_type": "execute_result"
    }
   ],
   "source": [
    "roc_auc_score(y_test.label,y_test_prob_log_reg)"
   ]
  },
  {
   "cell_type": "code",
   "execution_count": 64,
   "metadata": {},
   "outputs": [],
   "source": [
    "y_prob_d_Tree=clf.predict_proba(test_inp)\n",
    "y_prob_d_Tree=pd.DataFrame(y_prob_d_Tree)"
   ]
  },
  {
   "cell_type": "code",
   "execution_count": 65,
   "metadata": {},
   "outputs": [],
   "source": [
    "y_prob_d_Tree=y_prob_d_Tree.iloc[:,1]\n"
   ]
  },
  {
   "cell_type": "code",
   "execution_count": 66,
   "metadata": {},
   "outputs": [],
   "source": [
    "fpr, tpr, threshold = roc_curve(y_test.label,y_prob_d_Tree)"
   ]
  },
  {
   "cell_type": "code",
   "execution_count": 67,
   "metadata": {},
   "outputs": [
    {
     "data": {
      "text/plain": [
       "[<matplotlib.lines.Line2D at 0x19e196a67b8>]"
      ]
     },
     "execution_count": 67,
     "metadata": {},
     "output_type": "execute_result"
    },
    {
     "data": {
      "image/png": "[encoded data removed]",
      "text/plain": [
       "<Figure size 432x288 with 1 Axes>"
      ]
     },
     "metadata": {
      "needs_background": "light"
     },
     "output_type": "display_data"
    }
   ],
   "source": [
    "plt.plot(fpr,tpr)"
   ]
  },
  {
   "cell_type": "code",
   "execution_count": 68,
   "metadata": {},
   "outputs": [
    {
     "ename": "SyntaxError",
     "evalue": "invalid syntax (<ipython-input-68-2ad8b2b0f540>, line 1)",
     "output_type": "error",
     "traceback": [
      "\u001b[1;36m  File \u001b[1;32m\"<ipython-input-68-2ad8b2b0f540>\"\u001b[1;36m, line \u001b[1;32m1\u001b[0m\n\u001b[1;33m    y_prob_mnb=\u001b[0m\n\u001b[1;37m               ^\u001b[0m\n\u001b[1;31mSyntaxError\u001b[0m\u001b[1;31m:\u001b[0m invalid syntax\n"
     ]
    }
   ],
   "source": []
  }
 ],
 "metadata": {
  "accelerator": "GPU",
  "colab": {
   "collapsed_sections": [],
   "name": "Twitter.ipynb",
   "provenance": []
  },
  "kernelspec": {
   "display_name": "Python 3",
   "language": "python",
   "name": "python3"
  },
  "language_info": {
   "codemirror_mode": {
    "name": "ipython",
    "version": 3
   },
   "file_extension": ".py",
   "mimetype": "text/x-python",
   "name": "python",
   "nbconvert_exporter": "python",
   "pygments_lexer": "ipython3",
   "version": "3.6.10"
  }
 },
 "nbformat": 4,
 "nbformat_minor": 1
}
